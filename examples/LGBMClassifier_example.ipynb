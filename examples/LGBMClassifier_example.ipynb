{
 "cells": [
  {
   "cell_type": "markdown",
   "id": "78924579",
   "metadata": {},
   "source": [
    "# Feature Draft LightGBM.LGBMClassifier Example"
   ]
  },
  {
   "cell_type": "code",
   "execution_count": 1,
   "id": "c38e9903",
   "metadata": {},
   "outputs": [],
   "source": [
    "import lightgbm as lgbm\n",
    "import pandas as pd\n",
    "import numpy as np\n",
    "from sklearn.datasets import load_breast_cancer\n",
    "\n",
    "import feature_draft as fd"
   ]
  },
  {
   "cell_type": "code",
   "execution_count": 2,
   "id": "c468c0bd",
   "metadata": {},
   "outputs": [],
   "source": [
    "data = load_breast_cancer()"
   ]
  },
  {
   "cell_type": "code",
   "execution_count": 3,
   "id": "80a0baea",
   "metadata": {},
   "outputs": [
    {
     "data": {
      "text/plain": [
       "dict_keys(['data', 'target', 'frame', 'target_names', 'DESCR', 'feature_names', 'filename', 'data_module'])"
      ]
     },
     "execution_count": 3,
     "metadata": {},
     "output_type": "execute_result"
    }
   ],
   "source": [
    "data.keys()"
   ]
  },
  {
   "cell_type": "code",
   "execution_count": 4,
   "id": "6792e639",
   "metadata": {},
   "outputs": [],
   "source": [
    "# Define dataframe with features and response\n",
    "df = pd.DataFrame(data[\"data\"], columns=data[\"feature_names\"])\n",
    "df[\"response\"] = data[\"target\"]\n",
    "\n",
    "# Define feature list\n",
    "features = list(data[\"feature_names\"])\n",
    "\n",
    "# Define model object\n",
    "lgbm_model = lgbm.LGBMClassifier(seed=10)"
   ]
  },
  {
   "cell_type": "code",
   "execution_count": 5,
   "id": "aa707d2e",
   "metadata": {},
   "outputs": [],
   "source": [
    "# Instantiate FeatureDraft object\n",
    "feature_drafter = fd.FeatureDraft(\n",
    "    model=lgbm_model,\n",
    "    data=df,\n",
    "    features=features,\n",
    "    response=\"response\",\n",
    ")"
   ]
  },
  {
   "cell_type": "code",
   "execution_count": 6,
   "id": "e5bc18ba",
   "metadata": {},
   "outputs": [
    {
     "name": "stdout",
     "output_type": "stream",
     "text": [
      "Baseline Metric: 0.5\n",
      "\n",
      "Draft Round: 1\n",
      "Feature Selected: mean concave points,\n",
      "Metric Improvement: 0.45977\n",
      "New Metric: 0.95977\n",
      "\n",
      "Draft Round: 2\n",
      "Feature Selected: worst radius,\n",
      "Metric Improvement: 0.022381\n",
      "New Metric: 0.98215\n",
      "\n",
      "Draft Round: 3\n",
      "Draft finished, final feature list: ['mean concave points', 'worst radius']\n"
     ]
    }
   ],
   "source": [
    "# Draft features\n",
    "feature_drafter.draft_features()"
   ]
  },
  {
   "cell_type": "code",
   "execution_count": 7,
   "id": "b78e81f0",
   "metadata": {},
   "outputs": [
    {
     "data": {
      "text/plain": [
       "['mean concave points', 'worst radius']"
      ]
     },
     "execution_count": 7,
     "metadata": {},
     "output_type": "execute_result"
    }
   ],
   "source": [
    "# show selected features\n",
    "feature_drafter.selected_features"
   ]
  },
  {
   "cell_type": "code",
   "execution_count": 8,
   "id": "33036b48",
   "metadata": {},
   "outputs": [
    {
     "data": {
      "text/plain": [
       "[0.9618408123157549,\n",
       " 0.9849328529315428,\n",
       " 0.9871031746031745,\n",
       " 0.9867724867724866,\n",
       " 0.9901073105298457]"
      ]
     },
     "execution_count": 8,
     "metadata": {},
     "output_type": "execute_result"
    }
   ],
   "source": [
    "# show metrics from final feature list cross-validation run\n",
    "feature_drafter.best_metrics"
   ]
  }
 ],
 "metadata": {
  "kernelspec": {
   "display_name": "venv",
   "language": "python",
   "name": "venv"
  },
  "language_info": {
   "codemirror_mode": {
    "name": "ipython",
    "version": 3
   },
   "file_extension": ".py",
   "mimetype": "text/x-python",
   "name": "python",
   "nbconvert_exporter": "python",
   "pygments_lexer": "ipython3",
   "version": "3.9.13"
  }
 },
 "nbformat": 4,
 "nbformat_minor": 5
}
