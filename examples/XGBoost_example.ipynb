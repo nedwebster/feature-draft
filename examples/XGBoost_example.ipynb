{
 "cells": [
  {
   "cell_type": "markdown",
   "id": "78924579",
   "metadata": {},
   "source": [
    "# Feature Draft XGBoost Example"
   ]
  },
  {
   "cell_type": "markdown",
   "id": "9cfd9a47",
   "metadata": {},
   "source": [
    "Currently supported LightGBM estimators:\n",
    "- `xgboost.XGBClassifer`\n",
    "    - Binary classifaciton with AUC metric only\n",
    "- `xgboost.XGBRegressor`\n",
    "    - Standard regression with RMSE metric only"
   ]
  },
  {
   "cell_type": "code",
   "execution_count": 1,
   "id": "c38e9903",
   "metadata": {},
   "outputs": [],
   "source": [
    "import pandas as pd\n",
    "import numpy as np\n",
    "from sklearn.datasets import load_breast_cancer, load_diabetes\n",
    "import xgboost as xgb\n",
    "\n",
    "import feature_draft as fd"
   ]
  },
  {
   "cell_type": "markdown",
   "id": "47324501",
   "metadata": {},
   "source": [
    "## Binary Classification"
   ]
  },
  {
   "cell_type": "code",
   "execution_count": 2,
   "id": "c468c0bd",
   "metadata": {},
   "outputs": [],
   "source": [
    "data = load_breast_cancer()"
   ]
  },
  {
   "cell_type": "code",
   "execution_count": 3,
   "id": "6792e639",
   "metadata": {},
   "outputs": [],
   "source": [
    "# Define dataframe with features and response\n",
    "df = pd.DataFrame(data[\"data\"], columns=data[\"feature_names\"])\n",
    "df[\"response\"] = data[\"target\"]\n",
    "\n",
    "# Define feature list\n",
    "features = list(data[\"feature_names\"])\n",
    "\n",
    "# Define model object\n",
    "xgb_model = xgb.XGBClassifier(seed=10)"
   ]
  },
  {
   "cell_type": "code",
   "execution_count": 4,
   "id": "aa707d2e",
   "metadata": {},
   "outputs": [],
   "source": [
    "# Instantiate FeatureDraft object\n",
    "feature_drafter = fd.FeatureDraft(\n",
    "    model=xgb_model,\n",
    "    data=df,\n",
    "    features=features,\n",
    "    response=\"response\",\n",
    ")"
   ]
  },
  {
   "cell_type": "code",
   "execution_count": 5,
   "id": "e5bc18ba",
   "metadata": {
    "scrolled": true
   },
   "outputs": [
    {
     "name": "stdout",
     "output_type": "stream",
     "text": [
      "Baseline Metric: 0.5\n",
      "\n",
      "Draft Round: 1\n",
      "Feature Selected: worst perimeter,\n",
      "Metric Improvement: 0.46817\n",
      "New Metric: 0.96817\n",
      "\n",
      "Draft Round: 2\n",
      "Draft finished, final feature list: ['worst perimeter']\n"
     ]
    }
   ],
   "source": [
    "# Draft features\n",
    "feature_drafter.draft_features()"
   ]
  },
  {
   "cell_type": "code",
   "execution_count": 6,
   "id": "b78e81f0",
   "metadata": {},
   "outputs": [
    {
     "data": {
      "text/plain": [
       "['worst perimeter']"
      ]
     },
     "execution_count": 6,
     "metadata": {},
     "output_type": "execute_result"
    }
   ],
   "source": [
    "# show selected features\n",
    "feature_drafter.selected_features"
   ]
  },
  {
   "cell_type": "code",
   "execution_count": 7,
   "id": "33036b48",
   "metadata": {},
   "outputs": [
    {
     "data": {
      "text/plain": [
       "[0.9515230920406158,\n",
       " 0.9606943989518506,\n",
       " 0.9806547619047619,\n",
       " 0.9679232804232805,\n",
       " 0.9800469483568075]"
      ]
     },
     "execution_count": 7,
     "metadata": {},
     "output_type": "execute_result"
    }
   ],
   "source": [
    "# show metrics from final feature list cross-validation run\n",
    "feature_drafter.best_metrics"
   ]
  },
  {
   "cell_type": "markdown",
   "id": "ef26a382",
   "metadata": {},
   "source": [
    "## Regression"
   ]
  },
  {
   "cell_type": "code",
   "execution_count": 8,
   "id": "e090cf13",
   "metadata": {},
   "outputs": [],
   "source": [
    "data = load_diabetes()"
   ]
  },
  {
   "cell_type": "code",
   "execution_count": 9,
   "id": "1b359112",
   "metadata": {},
   "outputs": [],
   "source": [
    "# Define dataframe with features and response\n",
    "df = pd.DataFrame(data[\"data\"], columns=data[\"feature_names\"])\n",
    "df[\"response\"] = data[\"target\"]\n",
    "\n",
    "# Define feature list\n",
    "features = list(data[\"feature_names\"])\n",
    "\n",
    "# Define model object\n",
    "xgb_model = xgb.XGBRegressor(seed=10)"
   ]
  },
  {
   "cell_type": "code",
   "execution_count": 10,
   "id": "c02b5f24",
   "metadata": {},
   "outputs": [],
   "source": [
    "# Instantiate FeatureDraft object\n",
    "feature_drafter = fd.FeatureDraft(\n",
    "    model=xgb_model,\n",
    "    data=df,\n",
    "    features=features,\n",
    "    response=\"response\",\n",
    ")"
   ]
  },
  {
   "cell_type": "code",
   "execution_count": 11,
   "id": "fed61d17",
   "metadata": {
    "scrolled": false
   },
   "outputs": [
    {
     "name": "stdout",
     "output_type": "stream",
     "text": [
      "Baseline Metric: 5929.884896910383\n",
      "\n",
      "Draft Round: 1\n",
      "Feature Selected: bmi,\n",
      "Metric Improvement: -1779.3\n",
      "New Metric: 4150.6\n",
      "\n",
      "Draft Round: 2\n",
      "Draft finished, final feature list: ['bmi']\n"
     ]
    }
   ],
   "source": [
    "# Draft features\n",
    "feature_drafter.draft_features()"
   ]
  },
  {
   "cell_type": "code",
   "execution_count": 12,
   "id": "985eac91",
   "metadata": {},
   "outputs": [
    {
     "data": {
      "text/plain": [
       "[3984.9464366753778,\n",
       " 4464.200010351696,\n",
       " 3939.0857322486468,\n",
       " 4113.608556334869,\n",
       " 4250.991421518436]"
      ]
     },
     "execution_count": 12,
     "metadata": {},
     "output_type": "execute_result"
    }
   ],
   "source": [
    "feature_drafter.best_metrics"
   ]
  }
 ],
 "metadata": {
  "kernelspec": {
   "display_name": "venv",
   "language": "python",
   "name": "venv"
  },
  "language_info": {
   "codemirror_mode": {
    "name": "ipython",
    "version": 3
   },
   "file_extension": ".py",
   "mimetype": "text/x-python",
   "name": "python",
   "nbconvert_exporter": "python",
   "pygments_lexer": "ipython3",
   "version": "3.9.13"
  }
 },
 "nbformat": 4,
 "nbformat_minor": 5
}
